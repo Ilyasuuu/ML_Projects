{
 "cells": [
  {
   "cell_type": "code",
   "execution_count": 1,
   "metadata": {},
   "outputs": [],
   "source": [
    "import pandas as pd \n",
    "import numpy as np\n",
    "import matplotlib\n",
    "import matplotlib.pyplot as plt\n",
    "import seaborn as sns\n"
   ]
  },
  {
   "cell_type": "code",
   "execution_count": 2,
   "metadata": {},
   "outputs": [
    {
     "name": "stdout",
     "output_type": "stream",
     "text": [
      "Index(['medallion', 'pickup_datetime', 'pickup_longitude', 'pickup_latitude',\n",
      "       'trip_time_in_secs', 'fare_amount', 'tip_amount'],\n",
      "      dtype='object')\n"
     ]
    }
   ],
   "source": [
    "taxi_data = pd.read_csv(\"taxi.csv\")\n",
    "taxi_data.head()\n",
    "print(taxi_data.columns)"
   ]
  },
  {
   "cell_type": "code",
   "execution_count": 3,
   "metadata": {},
   "outputs": [
    {
     "name": "stdout",
     "output_type": "stream",
     "text": [
      "Index(['medallion', 'hack_license', 'vendor_id', 'rate_code',\n",
      "       'store_and_fwd_flag', 'pickup_datetime', 'dropoff_datetime',\n",
      "       'passenger_count', 'trip_time_in_secs', 'trip_distance',\n",
      "       'pickup_longitude', 'pickup_latitude', 'dropoff_longitude',\n",
      "       'dropoff_latitude'],\n",
      "      dtype='object')\n"
     ]
    }
   ],
   "source": [
    "trips_data = pd.read_csv(\"trips.csv\")\n",
    "trips_data.head()\n",
    "print(trips_data.columns)"
   ]
  },
  {
   "cell_type": "code",
   "execution_count": 4,
   "metadata": {},
   "outputs": [
    {
     "name": "stdout",
     "output_type": "stream",
     "text": [
      "Index(['medallion', 'hack_license', 'vendor_id', 'rate_code',\n",
      "       'store_and_fwd_flag', 'pickup_datetime', 'dropoff_datetime',\n",
      "       'passenger_count', 'trip_time_in_secs', 'trip_distance',\n",
      "       'pickup_longitude', 'pickup_latitude', 'dropoff_longitude',\n",
      "       'dropoff_latitude', 'fare_amount', 'tip_amount'],\n",
      "      dtype='object')\n"
     ]
    }
   ],
   "source": [
    "merge_data = pd.merge(trips_data, taxi_data)\n",
    "print(merge_data.columns)"
   ]
  },
  {
   "cell_type": "code",
   "execution_count": 5,
   "metadata": {},
   "outputs": [
    {
     "name": "stdout",
     "output_type": "stream",
     "text": [
      "Index(['medallion', 'pickup_datetime', 'dropoff_datetime', 'trip_time_in_secs',\n",
      "       'trip_distance', 'pickup_longitude', 'pickup_latitude',\n",
      "       'dropoff_longitude', 'dropoff_latitude', 'fare_amount'],\n",
      "      dtype='object')\n"
     ]
    }
   ],
   "source": [
    "merge_data = merge_data.drop(['hack_license', 'vendor_id', 'rate_code', 'store_and_fwd_flag', 'passenger_count', 'tip_amount'], axis=1)\n",
    "print(merge_data.columns)\n",
    "\n"
   ]
  },
  {
   "cell_type": "code",
   "execution_count": 6,
   "metadata": {},
   "outputs": [
    {
     "data": {
      "text/html": [
       "<div>\n",
       "<style scoped>\n",
       "    .dataframe tbody tr th:only-of-type {\n",
       "        vertical-align: middle;\n",
       "    }\n",
       "\n",
       "    .dataframe tbody tr th {\n",
       "        vertical-align: top;\n",
       "    }\n",
       "\n",
       "    .dataframe thead th {\n",
       "        text-align: right;\n",
       "    }\n",
       "</style>\n",
       "<table border=\"1\" class=\"dataframe\">\n",
       "  <thead>\n",
       "    <tr style=\"text-align: right;\">\n",
       "      <th></th>\n",
       "      <th>medallion</th>\n",
       "      <th>pickup_datetime</th>\n",
       "      <th>dropoff_datetime</th>\n",
       "      <th>trip_time_in_secs</th>\n",
       "      <th>trip_distance</th>\n",
       "      <th>pickup_longitude</th>\n",
       "      <th>pickup_latitude</th>\n",
       "      <th>dropoff_longitude</th>\n",
       "      <th>dropoff_latitude</th>\n",
       "      <th>fare_amount</th>\n",
       "    </tr>\n",
       "  </thead>\n",
       "  <tbody>\n",
       "    <tr>\n",
       "      <th>0</th>\n",
       "      <td>4D24F4D8EF35878595044A52B098DFD2</td>\n",
       "      <td>2013-01-13T10:23:00Z</td>\n",
       "      <td>2013-01-13T10:33:00Z</td>\n",
       "      <td>600</td>\n",
       "      <td>1.11</td>\n",
       "      <td>-73.946457</td>\n",
       "      <td>40.772728</td>\n",
       "      <td>-73.954819</td>\n",
       "      <td>40.777840</td>\n",
       "      <td>8.0</td>\n",
       "    </tr>\n",
       "    <tr>\n",
       "      <th>1</th>\n",
       "      <td>A49C37EB966E7B05E69523D1CB7BE303</td>\n",
       "      <td>2013-01-13T04:52:00Z</td>\n",
       "      <td>2013-01-13T05:06:00Z</td>\n",
       "      <td>840</td>\n",
       "      <td>5.35</td>\n",
       "      <td>-73.998268</td>\n",
       "      <td>40.740414</td>\n",
       "      <td>-73.984909</td>\n",
       "      <td>40.674999</td>\n",
       "      <td>18.0</td>\n",
       "    </tr>\n",
       "    <tr>\n",
       "      <th>2</th>\n",
       "      <td>1E4B72A8E623888F53A9693C364AC05A</td>\n",
       "      <td>2013-01-13T10:47:00Z</td>\n",
       "      <td>2013-01-13T10:48:00Z</td>\n",
       "      <td>60</td>\n",
       "      <td>0.50</td>\n",
       "      <td>-73.953461</td>\n",
       "      <td>40.775864</td>\n",
       "      <td>-73.955238</td>\n",
       "      <td>40.773216</td>\n",
       "      <td>3.5</td>\n",
       "    </tr>\n",
       "    <tr>\n",
       "      <th>3</th>\n",
       "      <td>F7E4E9439C46B8AD5B16AB9F1B3279D7</td>\n",
       "      <td>2013-01-13T11:14:00Z</td>\n",
       "      <td>2013-01-13T11:26:00Z</td>\n",
       "      <td>720</td>\n",
       "      <td>2.66</td>\n",
       "      <td>-73.981369</td>\n",
       "      <td>40.724731</td>\n",
       "      <td>-74.012932</td>\n",
       "      <td>40.717426</td>\n",
       "      <td>11.5</td>\n",
       "    </tr>\n",
       "    <tr>\n",
       "      <th>4</th>\n",
       "      <td>A9DC75D59E0EA27E1ED328E8BE8CD828</td>\n",
       "      <td>2013-01-13T11:24:00Z</td>\n",
       "      <td>2013-01-13T11:28:00Z</td>\n",
       "      <td>240</td>\n",
       "      <td>1.49</td>\n",
       "      <td>-73.967995</td>\n",
       "      <td>40.760002</td>\n",
       "      <td>-73.955513</td>\n",
       "      <td>40.776730</td>\n",
       "      <td>6.5</td>\n",
       "    </tr>\n",
       "  </tbody>\n",
       "</table>\n",
       "</div>"
      ],
      "text/plain": [
       "                          medallion       pickup_datetime  \\\n",
       "0  4D24F4D8EF35878595044A52B098DFD2  2013-01-13T10:23:00Z   \n",
       "1  A49C37EB966E7B05E69523D1CB7BE303  2013-01-13T04:52:00Z   \n",
       "2  1E4B72A8E623888F53A9693C364AC05A  2013-01-13T10:47:00Z   \n",
       "3  F7E4E9439C46B8AD5B16AB9F1B3279D7  2013-01-13T11:14:00Z   \n",
       "4  A9DC75D59E0EA27E1ED328E8BE8CD828  2013-01-13T11:24:00Z   \n",
       "\n",
       "       dropoff_datetime  trip_time_in_secs  trip_distance  pickup_longitude  \\\n",
       "0  2013-01-13T10:33:00Z                600           1.11        -73.946457   \n",
       "1  2013-01-13T05:06:00Z                840           5.35        -73.998268   \n",
       "2  2013-01-13T10:48:00Z                 60           0.50        -73.953461   \n",
       "3  2013-01-13T11:26:00Z                720           2.66        -73.981369   \n",
       "4  2013-01-13T11:28:00Z                240           1.49        -73.967995   \n",
       "\n",
       "   pickup_latitude  dropoff_longitude  dropoff_latitude  fare_amount  \n",
       "0        40.772728         -73.954819         40.777840          8.0  \n",
       "1        40.740414         -73.984909         40.674999         18.0  \n",
       "2        40.775864         -73.955238         40.773216          3.5  \n",
       "3        40.724731         -74.012932         40.717426         11.5  \n",
       "4        40.760002         -73.955513         40.776730          6.5  "
      ]
     },
     "execution_count": 6,
     "metadata": {},
     "output_type": "execute_result"
    }
   ],
   "source": [
    "merge_data = merge_data.dropna()\n",
    "merge_data.head()\n"
   ]
  },
  {
   "cell_type": "code",
   "execution_count": 7,
   "metadata": {},
   "outputs": [
    {
     "data": {
      "text/plain": [
       "medallion\n",
       "BCC1B5B7D9596FEC872C9DAD725310B3    15\n",
       "723B5809862054401FA26A9219A45FC5    15\n",
       "CBAAA9C7A2B8ADF468BA2477E22BD763    14\n",
       "D6FDD900F5504C7FD5C0B999966E0F07    13\n",
       "B6585890F68EE02702F32DECDEABC2A8    13\n",
       "                                    ..\n",
       "85E0A289F58009CF568A928219082EDC     1\n",
       "6C0E03106318253CAD879114FC991B66     1\n",
       "7A4720A674F0EDBF9E71EB37EF0DB47B     1\n",
       "473E20C6CBE91A07C2CA161158E35AE4     1\n",
       "A6DB36B570BD59E08FBE76086C5EE662     1\n",
       "Name: count, Length: 12744, dtype: int64"
      ]
     },
     "execution_count": 7,
     "metadata": {},
     "output_type": "execute_result"
    }
   ],
   "source": [
    "merge_data['medallion'].value_counts()"
   ]
  },
  {
   "cell_type": "code",
   "execution_count": 8,
   "metadata": {},
   "outputs": [
    {
     "data": {
      "text/html": [
       "<div>\n",
       "<style scoped>\n",
       "    .dataframe tbody tr th:only-of-type {\n",
       "        vertical-align: middle;\n",
       "    }\n",
       "\n",
       "    .dataframe tbody tr th {\n",
       "        vertical-align: top;\n",
       "    }\n",
       "\n",
       "    .dataframe thead th {\n",
       "        text-align: right;\n",
       "    }\n",
       "</style>\n",
       "<table border=\"1\" class=\"dataframe\">\n",
       "  <thead>\n",
       "    <tr style=\"text-align: right;\">\n",
       "      <th></th>\n",
       "      <th>trip_time_in_secs</th>\n",
       "      <th>trip_distance</th>\n",
       "      <th>pickup_longitude</th>\n",
       "      <th>pickup_latitude</th>\n",
       "      <th>dropoff_longitude</th>\n",
       "      <th>dropoff_latitude</th>\n",
       "      <th>fare_amount</th>\n",
       "    </tr>\n",
       "  </thead>\n",
       "  <tbody>\n",
       "    <tr>\n",
       "      <th>count</th>\n",
       "      <td>49999.000000</td>\n",
       "      <td>49999.000000</td>\n",
       "      <td>49999.000000</td>\n",
       "      <td>49999.000000</td>\n",
       "      <td>49999.000000</td>\n",
       "      <td>49999.000000</td>\n",
       "      <td>49999.000000</td>\n",
       "    </tr>\n",
       "    <tr>\n",
       "      <th>mean</th>\n",
       "      <td>757.281306</td>\n",
       "      <td>2.907660</td>\n",
       "      <td>-72.562461</td>\n",
       "      <td>39.825872</td>\n",
       "      <td>-72.539657</td>\n",
       "      <td>39.812613</td>\n",
       "      <td>12.443674</td>\n",
       "    </tr>\n",
       "    <tr>\n",
       "      <th>std</th>\n",
       "      <td>654.997964</td>\n",
       "      <td>3.377631</td>\n",
       "      <td>10.773865</td>\n",
       "      <td>7.837667</td>\n",
       "      <td>10.846693</td>\n",
       "      <td>7.872047</td>\n",
       "      <td>13.658216</td>\n",
       "    </tr>\n",
       "    <tr>\n",
       "      <th>min</th>\n",
       "      <td>0.000000</td>\n",
       "      <td>0.000000</td>\n",
       "      <td>-82.634415</td>\n",
       "      <td>-74.014969</td>\n",
       "      <td>-77.115440</td>\n",
       "      <td>-74.177155</td>\n",
       "      <td>0.000000</td>\n",
       "    </tr>\n",
       "    <tr>\n",
       "      <th>25%</th>\n",
       "      <td>365.000000</td>\n",
       "      <td>1.060000</td>\n",
       "      <td>-73.992294</td>\n",
       "      <td>40.734245</td>\n",
       "      <td>-73.991592</td>\n",
       "      <td>40.733475</td>\n",
       "      <td>6.500000</td>\n",
       "    </tr>\n",
       "    <tr>\n",
       "      <th>50%</th>\n",
       "      <td>600.000000</td>\n",
       "      <td>1.800000</td>\n",
       "      <td>-73.982025</td>\n",
       "      <td>40.752079</td>\n",
       "      <td>-73.980255</td>\n",
       "      <td>40.752808</td>\n",
       "      <td>9.500000</td>\n",
       "    </tr>\n",
       "    <tr>\n",
       "      <th>75%</th>\n",
       "      <td>960.000000</td>\n",
       "      <td>3.200000</td>\n",
       "      <td>-73.966904</td>\n",
       "      <td>40.767099</td>\n",
       "      <td>-73.963593</td>\n",
       "      <td>40.767857</td>\n",
       "      <td>14.000000</td>\n",
       "    </tr>\n",
       "    <tr>\n",
       "      <th>max</th>\n",
       "      <td>75240.000000</td>\n",
       "      <td>53.000000</td>\n",
       "      <td>40.811337</td>\n",
       "      <td>41.589775</td>\n",
       "      <td>40.859077</td>\n",
       "      <td>41.107189</td>\n",
       "      <td>2069.500000</td>\n",
       "    </tr>\n",
       "  </tbody>\n",
       "</table>\n",
       "</div>"
      ],
      "text/plain": [
       "       trip_time_in_secs  trip_distance  pickup_longitude  pickup_latitude  \\\n",
       "count       49999.000000   49999.000000      49999.000000     49999.000000   \n",
       "mean          757.281306       2.907660        -72.562461        39.825872   \n",
       "std           654.997964       3.377631         10.773865         7.837667   \n",
       "min             0.000000       0.000000        -82.634415       -74.014969   \n",
       "25%           365.000000       1.060000        -73.992294        40.734245   \n",
       "50%           600.000000       1.800000        -73.982025        40.752079   \n",
       "75%           960.000000       3.200000        -73.966904        40.767099   \n",
       "max         75240.000000      53.000000         40.811337        41.589775   \n",
       "\n",
       "       dropoff_longitude  dropoff_latitude   fare_amount  \n",
       "count       49999.000000      49999.000000  49999.000000  \n",
       "mean          -72.539657         39.812613     12.443674  \n",
       "std            10.846693          7.872047     13.658216  \n",
       "min           -77.115440        -74.177155      0.000000  \n",
       "25%           -73.991592         40.733475      6.500000  \n",
       "50%           -73.980255         40.752808      9.500000  \n",
       "75%           -73.963593         40.767857     14.000000  \n",
       "max            40.859077         41.107189   2069.500000  "
      ]
     },
     "execution_count": 8,
     "metadata": {},
     "output_type": "execute_result"
    }
   ],
   "source": [
    "merge_data.describe()"
   ]
  },
  {
   "cell_type": "code",
   "execution_count": 9,
   "metadata": {},
   "outputs": [
    {
     "name": "stdout",
     "output_type": "stream",
     "text": [
      "medallion            0\n",
      "pickup_datetime      0\n",
      "dropoff_datetime     0\n",
      "trip_time_in_secs    0\n",
      "trip_distance        0\n",
      "pickup_longitude     0\n",
      "pickup_latitude      0\n",
      "dropoff_longitude    0\n",
      "dropoff_latitude     0\n",
      "fare_amount          0\n",
      "dtype: int64\n"
     ]
    }
   ],
   "source": [
    "print(merge_data.isnull().sum())"
   ]
  },
  {
   "cell_type": "code",
   "execution_count": 10,
   "metadata": {},
   "outputs": [
    {
     "data": {
      "image/png": "[encoded data removed]",
      "text/plain": [
       "<Figure size 640x480 with 1 Axes>"
      ]
     },
     "metadata": {},
     "output_type": "display_data"
    }
   ],
   "source": [
    "import seaborn as sns\n",
    "import matplotlib.pyplot as plt\n",
    "\n",
    "sns.boxplot(x=merge_data['trip_time_in_secs'])\n",
    "plt.show()\n"
   ]
  },
  {
   "cell_type": "code",
   "execution_count": 11,
   "metadata": {},
   "outputs": [],
   "source": [
    "merge_data = merge_data[merge_data['trip_time_in_secs'] < 7200]  # Remove trips longer than 4 hours\n"
   ]
  },
  {
   "cell_type": "code",
   "execution_count": 12,
   "metadata": {},
   "outputs": [
    {
     "data": {
      "image/png": "[encoded data removed]",
      "text/plain": [
       "<Figure size 640x480 with 1 Axes>"
      ]
     },
     "metadata": {},
     "output_type": "display_data"
    }
   ],
   "source": [
    "sns.boxplot(x=merge_data['trip_time_in_secs'])\n",
    "plt.show()\n"
   ]
  },
  {
   "cell_type": "code",
   "execution_count": 13,
   "metadata": {},
   "outputs": [
    {
     "data": {
      "text/html": [
       "<div>\n",
       "<style scoped>\n",
       "    .dataframe tbody tr th:only-of-type {\n",
       "        vertical-align: middle;\n",
       "    }\n",
       "\n",
       "    .dataframe tbody tr th {\n",
       "        vertical-align: top;\n",
       "    }\n",
       "\n",
       "    .dataframe thead th {\n",
       "        text-align: right;\n",
       "    }\n",
       "</style>\n",
       "<table border=\"1\" class=\"dataframe\">\n",
       "  <thead>\n",
       "    <tr style=\"text-align: right;\">\n",
       "      <th></th>\n",
       "      <th>trip_time_in_secs</th>\n",
       "      <th>trip_distance</th>\n",
       "      <th>pickup_longitude</th>\n",
       "      <th>pickup_latitude</th>\n",
       "      <th>dropoff_longitude</th>\n",
       "      <th>dropoff_latitude</th>\n",
       "      <th>fare_amount</th>\n",
       "    </tr>\n",
       "  </thead>\n",
       "  <tbody>\n",
       "    <tr>\n",
       "      <th>count</th>\n",
       "      <td>49996.000000</td>\n",
       "      <td>49996.000000</td>\n",
       "      <td>49996.000000</td>\n",
       "      <td>49996.000000</td>\n",
       "      <td>49996.000000</td>\n",
       "      <td>49996.000000</td>\n",
       "      <td>49996.000000</td>\n",
       "    </tr>\n",
       "    <tr>\n",
       "      <th>mean</th>\n",
       "      <td>755.501400</td>\n",
       "      <td>2.906785</td>\n",
       "      <td>-72.563855</td>\n",
       "      <td>39.826631</td>\n",
       "      <td>-72.541058</td>\n",
       "      <td>39.813376</td>\n",
       "      <td>12.400947</td>\n",
       "    </tr>\n",
       "    <tr>\n",
       "      <th>std</th>\n",
       "      <td>562.103317</td>\n",
       "      <td>3.374326</td>\n",
       "      <td>10.769295</td>\n",
       "      <td>7.835876</td>\n",
       "      <td>10.842163</td>\n",
       "      <td>7.870268</td>\n",
       "      <td>10.092351</td>\n",
       "    </tr>\n",
       "    <tr>\n",
       "      <th>min</th>\n",
       "      <td>0.000000</td>\n",
       "      <td>0.000000</td>\n",
       "      <td>-82.634415</td>\n",
       "      <td>-74.014969</td>\n",
       "      <td>-77.115440</td>\n",
       "      <td>-74.177155</td>\n",
       "      <td>0.000000</td>\n",
       "    </tr>\n",
       "    <tr>\n",
       "      <th>25%</th>\n",
       "      <td>365.000000</td>\n",
       "      <td>1.060000</td>\n",
       "      <td>-73.992294</td>\n",
       "      <td>40.734245</td>\n",
       "      <td>-73.991594</td>\n",
       "      <td>40.733479</td>\n",
       "      <td>6.500000</td>\n",
       "    </tr>\n",
       "    <tr>\n",
       "      <th>50%</th>\n",
       "      <td>600.000000</td>\n",
       "      <td>1.800000</td>\n",
       "      <td>-73.982025</td>\n",
       "      <td>40.752077</td>\n",
       "      <td>-73.980259</td>\n",
       "      <td>40.752809</td>\n",
       "      <td>9.500000</td>\n",
       "    </tr>\n",
       "    <tr>\n",
       "      <th>75%</th>\n",
       "      <td>960.000000</td>\n",
       "      <td>3.200000</td>\n",
       "      <td>-73.966904</td>\n",
       "      <td>40.767101</td>\n",
       "      <td>-73.963593</td>\n",
       "      <td>40.767858</td>\n",
       "      <td>14.000000</td>\n",
       "    </tr>\n",
       "    <tr>\n",
       "      <th>max</th>\n",
       "      <td>6847.000000</td>\n",
       "      <td>53.000000</td>\n",
       "      <td>40.811337</td>\n",
       "      <td>41.589775</td>\n",
       "      <td>40.859077</td>\n",
       "      <td>41.107189</td>\n",
       "      <td>198.000000</td>\n",
       "    </tr>\n",
       "  </tbody>\n",
       "</table>\n",
       "</div>"
      ],
      "text/plain": [
       "       trip_time_in_secs  trip_distance  pickup_longitude  pickup_latitude  \\\n",
       "count       49996.000000   49996.000000      49996.000000     49996.000000   \n",
       "mean          755.501400       2.906785        -72.563855        39.826631   \n",
       "std           562.103317       3.374326         10.769295         7.835876   \n",
       "min             0.000000       0.000000        -82.634415       -74.014969   \n",
       "25%           365.000000       1.060000        -73.992294        40.734245   \n",
       "50%           600.000000       1.800000        -73.982025        40.752077   \n",
       "75%           960.000000       3.200000        -73.966904        40.767101   \n",
       "max          6847.000000      53.000000         40.811337        41.589775   \n",
       "\n",
       "       dropoff_longitude  dropoff_latitude   fare_amount  \n",
       "count       49996.000000      49996.000000  49996.000000  \n",
       "mean          -72.541058         39.813376     12.400947  \n",
       "std            10.842163          7.870268     10.092351  \n",
       "min           -77.115440        -74.177155      0.000000  \n",
       "25%           -73.991594         40.733479      6.500000  \n",
       "50%           -73.980259         40.752809      9.500000  \n",
       "75%           -73.963593         40.767858     14.000000  \n",
       "max            40.859077         41.107189    198.000000  "
      ]
     },
     "execution_count": 13,
     "metadata": {},
     "output_type": "execute_result"
    }
   ],
   "source": [
    "merge_data.describe()"
   ]
  },
  {
   "cell_type": "code",
   "execution_count": 14,
   "metadata": {},
   "outputs": [
    {
     "data": {
      "image/png": "[encoded data removed]",
      "text/plain": [
       "<Figure size 900x500 with 1 Axes>"
      ]
     },
     "metadata": {
      "needs_background": "light"
     },
     "output_type": "display_data"
    }
   ],
   "source": [
    "sns.set_style('darkgrid')\n",
    "matplotlib.rcParams['font.size'] = 10\n",
    "matplotlib.rcParams['figure.figsize'] = (9,5)\n",
    "matplotlib.rcParams['figure.facecolor'] = '#00000000'\n",
    "fig, ax = plt.subplots()\n",
    "\n",
    "merge_data.boxplot(column='fare_amount', ax=ax)\n",
    "ax.set_title('Fare Amount')\n",
    "ax.set_ylim(-100, 250)\n",
    "\n",
    "\n",
    "plt.show()"
   ]
  },
  {
   "cell_type": "code",
   "execution_count": 15,
   "metadata": {},
   "outputs": [],
   "source": [
    "from geopy.distance import geodesic\n",
    "\n",
    "merge_data['distance'] = merge_data.apply(lambda row: geodesic((row['pickup_latitude'], row['pickup_longitude']),\n",
    "                                                                 (row['dropoff_latitude'], row['dropoff_longitude'])).miles, axis=1)\n"
   ]
  },
  {
   "cell_type": "code",
   "execution_count": 16,
   "metadata": {},
   "outputs": [],
   "source": [
    "merge_data = merge_data[(merge_data['pickup_latitude'].between(40, 41)) & \n",
    "                          (merge_data['pickup_longitude'].between(-75, -72)) &\n",
    "                          (merge_data['dropoff_latitude'].between(40, 41)) & \n",
    "                          (merge_data['dropoff_longitude'].between(-75, -72))]\n"
   ]
  },
  {
   "cell_type": "code",
   "execution_count": 17,
   "metadata": {},
   "outputs": [
    {
     "data": {
      "text/html": [
       "<div>\n",
       "<style scoped>\n",
       "    .dataframe tbody tr th:only-of-type {\n",
       "        vertical-align: middle;\n",
       "    }\n",
       "\n",
       "    .dataframe tbody tr th {\n",
       "        vertical-align: top;\n",
       "    }\n",
       "\n",
       "    .dataframe thead th {\n",
       "        text-align: right;\n",
       "    }\n",
       "</style>\n",
       "<table border=\"1\" class=\"dataframe\">\n",
       "  <thead>\n",
       "    <tr style=\"text-align: right;\">\n",
       "      <th></th>\n",
       "      <th>trip_time_in_secs</th>\n",
       "      <th>trip_distance</th>\n",
       "      <th>pickup_longitude</th>\n",
       "      <th>pickup_latitude</th>\n",
       "      <th>dropoff_longitude</th>\n",
       "      <th>dropoff_latitude</th>\n",
       "      <th>fare_amount</th>\n",
       "      <th>distance</th>\n",
       "    </tr>\n",
       "  </thead>\n",
       "  <tbody>\n",
       "    <tr>\n",
       "      <th>count</th>\n",
       "      <td>49064.000000</td>\n",
       "      <td>49064.000000</td>\n",
       "      <td>49064.000000</td>\n",
       "      <td>49064.000000</td>\n",
       "      <td>49064.000000</td>\n",
       "      <td>49064.000000</td>\n",
       "      <td>49064.000000</td>\n",
       "      <td>49064.000000</td>\n",
       "    </tr>\n",
       "    <tr>\n",
       "      <th>mean</th>\n",
       "      <td>756.538012</td>\n",
       "      <td>2.907307</td>\n",
       "      <td>-73.975036</td>\n",
       "      <td>40.750292</td>\n",
       "      <td>-73.974579</td>\n",
       "      <td>40.750887</td>\n",
       "      <td>12.331557</td>\n",
       "      <td>2.115389</td>\n",
       "    </tr>\n",
       "    <tr>\n",
       "      <th>std</th>\n",
       "      <td>560.117836</td>\n",
       "      <td>3.348193</td>\n",
       "      <td>0.035620</td>\n",
       "      <td>0.027614</td>\n",
       "      <td>0.034959</td>\n",
       "      <td>0.031232</td>\n",
       "      <td>9.746449</td>\n",
       "      <td>2.282912</td>\n",
       "    </tr>\n",
       "    <tr>\n",
       "      <th>min</th>\n",
       "      <td>0.000000</td>\n",
       "      <td>0.000000</td>\n",
       "      <td>-74.315605</td>\n",
       "      <td>40.127800</td>\n",
       "      <td>-74.315605</td>\n",
       "      <td>40.127800</td>\n",
       "      <td>0.000000</td>\n",
       "      <td>0.000000</td>\n",
       "    </tr>\n",
       "    <tr>\n",
       "      <th>25%</th>\n",
       "      <td>367.000000</td>\n",
       "      <td>1.060000</td>\n",
       "      <td>-73.992500</td>\n",
       "      <td>40.735573</td>\n",
       "      <td>-73.991791</td>\n",
       "      <td>40.734806</td>\n",
       "      <td>6.500000</td>\n",
       "      <td>0.801568</td>\n",
       "    </tr>\n",
       "    <tr>\n",
       "      <th>50%</th>\n",
       "      <td>602.000000</td>\n",
       "      <td>1.800000</td>\n",
       "      <td>-73.982254</td>\n",
       "      <td>40.752579</td>\n",
       "      <td>-73.980644</td>\n",
       "      <td>40.753477</td>\n",
       "      <td>9.500000</td>\n",
       "      <td>1.364479</td>\n",
       "    </tr>\n",
       "    <tr>\n",
       "      <th>75%</th>\n",
       "      <td>960.000000</td>\n",
       "      <td>3.200000</td>\n",
       "      <td>-73.968063</td>\n",
       "      <td>40.767456</td>\n",
       "      <td>-73.965116</td>\n",
       "      <td>40.768170</td>\n",
       "      <td>14.000000</td>\n",
       "      <td>2.485637</td>\n",
       "    </tr>\n",
       "    <tr>\n",
       "      <th>max</th>\n",
       "      <td>6847.000000</td>\n",
       "      <td>38.020000</td>\n",
       "      <td>-73.546356</td>\n",
       "      <td>40.913631</td>\n",
       "      <td>-72.688133</td>\n",
       "      <td>40.967796</td>\n",
       "      <td>159.500000</td>\n",
       "      <td>45.216778</td>\n",
       "    </tr>\n",
       "  </tbody>\n",
       "</table>\n",
       "</div>"
      ],
      "text/plain": [
       "       trip_time_in_secs  trip_distance  pickup_longitude  pickup_latitude  \\\n",
       "count       49064.000000   49064.000000      49064.000000     49064.000000   \n",
       "mean          756.538012       2.907307        -73.975036        40.750292   \n",
       "std           560.117836       3.348193          0.035620         0.027614   \n",
       "min             0.000000       0.000000        -74.315605        40.127800   \n",
       "25%           367.000000       1.060000        -73.992500        40.735573   \n",
       "50%           602.000000       1.800000        -73.982254        40.752579   \n",
       "75%           960.000000       3.200000        -73.968063        40.767456   \n",
       "max          6847.000000      38.020000        -73.546356        40.913631   \n",
       "\n",
       "       dropoff_longitude  dropoff_latitude   fare_amount      distance  \n",
       "count       49064.000000      49064.000000  49064.000000  49064.000000  \n",
       "mean          -73.974579         40.750887     12.331557      2.115389  \n",
       "std             0.034959          0.031232      9.746449      2.282912  \n",
       "min           -74.315605         40.127800      0.000000      0.000000  \n",
       "25%           -73.991791         40.734806      6.500000      0.801568  \n",
       "50%           -73.980644         40.753477      9.500000      1.364479  \n",
       "75%           -73.965116         40.768170     14.000000      2.485637  \n",
       "max           -72.688133         40.967796    159.500000     45.216778  "
      ]
     },
     "execution_count": 17,
     "metadata": {},
     "output_type": "execute_result"
    }
   ],
   "source": [
    "merge_data.describe()"
   ]
  },
  {
   "cell_type": "code",
   "execution_count": 18,
   "metadata": {},
   "outputs": [
    {
     "data": {
      "text/plain": [
       "(49064, 11)"
      ]
     },
     "execution_count": 18,
     "metadata": {},
     "output_type": "execute_result"
    }
   ],
   "source": [
    "merge_data.shape"
   ]
  },
  {
   "cell_type": "code",
   "execution_count": 19,
   "metadata": {},
   "outputs": [
    {
     "data": {
      "image/png": "[encoded data removed]",
      "text/plain": [
       "<Figure size 500x500 with 1 Axes>"
      ]
     },
     "metadata": {
      "needs_background": "light"
     },
     "output_type": "display_data"
    }
   ],
   "source": [
    "sns.displot(merge_data[merge_data['fare_amount']<200]['fare_amount'])\n",
    "plt.title('Distribution of Taxi Fare')\n",
    "plt.show()"
   ]
  },
  {
   "cell_type": "code",
   "execution_count": 22,
   "metadata": {},
   "outputs": [
    {
     "name": "stdout",
     "output_type": "stream",
     "text": [
      "0        0.904933\n",
      "1        7.360460\n",
      "2        0.330285\n",
      "3        2.781201\n",
      "4        2.136538\n",
      "           ...   \n",
      "49994    1.606161\n",
      "49995    2.435582\n",
      "49996    1.833472\n",
      "49997    1.831398\n",
      "49998    1.439256\n",
      "Name: distance, Length: 49064, dtype: float64\n"
     ]
    }
   ],
   "source": [
    "from math import radians, sin, cos, sqrt, atan2\n",
    "def haversine(lon1, lat1, lon2, lat2):\n",
    "    # Convert latitude and longitude from degrees to radians\n",
    "    lon1, lat1, lon2, lat2 = map(radians, [lon1, lat1, lon2, lat2])\n",
    "\n",
    "    # Haversine formula\n",
    "    dlon = lon2 - lon1\n",
    "    dlat = lat2 - lat1\n",
    "    a = sin(dlat/2)**2 + cos(lat1) * cos(lat2) * sin(dlon/2)**2\n",
    "    c = 2 * atan2(sqrt(a), sqrt(1-a))\n",
    "    r = 6371  # Radius of Earth in kilometers. Use 3956 for miles.\n",
    "    return r * c\n",
    "\n",
    "\n",
    "merge_data['distance'] = merge_data.apply(lambda row: haversine(row['pickup_longitude'], row['pickup_latitude'], \n",
    "                                                                  row['dropoff_longitude'], row['dropoff_latitude']), axis=1)\n",
    "\n",
    "print(merge_data[\"distance\"])"
   ]
  },
  {
   "cell_type": "code",
   "execution_count": 23,
   "metadata": {},
   "outputs": [],
   "source": [
    "merge_data['pickup_datetime'] = pd.to_datetime(merge_data['pickup_datetime'])\n",
    "\n",
    "merge_data['pickup_hour'] = merge_data['pickup_datetime'].dt.hour\n",
    "merge_data['pickup_day_of_week'] = merge_data['pickup_datetime'].dt.dayofweek\n",
    "merge_data['pickup_month'] = merge_data['pickup_datetime'].dt.month\n",
    "merge_data['pickup_day'] = merge_data['pickup_datetime'].dt.day\n",
    "merge_data['pickup_is_weekend'] = merge_data['pickup_datetime'].dt.dayofweek >= 5\n"
   ]
  },
  {
   "cell_type": "code",
   "execution_count": 32,
   "metadata": {},
   "outputs": [
    {
     "data": {
      "image/png": "[encoded data removed]",
      "text/plain": [
       "<Figure size 1000x600 with 1 Axes>"
      ]
     },
     "metadata": {},
     "output_type": "display_data"
    }
   ],
   "source": [
    "\n",
    "\n",
    "sns.set_style('whitegrid')\n",
    "\n",
    "# Increase figure size\n",
    "plt.figure(figsize=(10, 6))\n",
    "\n",
    "# Plot the histogram with 24 bins, ensuring each hour is represented\n",
    "sns.histplot(data=merge_data[merge_data['pickup_hour'] < 24], x='pickup_hour', bins=24, kde=True, color='dodgerblue')\n",
    "\n",
    "# Add title and labels\n",
    "plt.title('Distribution of Taxi Pickups by Hour', fontsize=16)\n",
    "plt.xlabel('Pickup Hour', fontsize=14)\n",
    "plt.ylabel('Count', fontsize=14)\n",
    "\n",
    "# Ensure x-axis limits reflect hours 0-23\n",
    "plt.xlim(0, 23)\n",
    "\n",
    "# Customize tick parameters\n",
    "plt.xticks(range(0, 24), fontsize=12)\n",
    "plt.yticks(fontsize=12)\n",
    "\n",
    "# Show the plot\n",
    "plt.show()\n"
   ]
  },
  {
   "cell_type": "code",
   "execution_count": 110,
   "metadata": {},
   "outputs": [],
   "source": [
    "from sklearn.model_selection import train_test_split\n",
    "\n",
    "X = merge_data.drop(columns=['fare_amount'])  # Features\n",
    "y = merge_data['fare_amount']  # Target variable\n",
    "\n",
    "X_train, X_test, y_train, y_test = train_test_split(X, y, test_size=0.2, random_state=42)\n",
    "\n"
   ]
  },
  {
   "cell_type": "code",
   "execution_count": 111,
   "metadata": {},
   "outputs": [],
   "source": [
    "X_train = X_train.drop(columns=['medallion'])\n",
    "X_test = X_test.drop(columns=['medallion'])\n",
    "\n",
    "X_train = X_train.drop(columns=['dropoff_datetime'])\n",
    "X_test = X_test.drop(columns=['dropoff_datetime'])\n",
    "\n",
    "X_train = X_train.drop(columns=['pickup_datetime'])\n",
    "X_test = X_test.drop(columns=['pickup_datetime'])\n"
   ]
  },
  {
   "cell_type": "code",
   "execution_count": 115,
   "metadata": {},
   "outputs": [
    {
     "name": "stdout",
     "output_type": "stream",
     "text": [
      "       Actual  Predicted\n",
      "40179    11.0  11.761690\n",
      "11384    12.5  13.258088\n",
      "25384    19.5  20.275943\n",
      "33375     6.5   6.635870\n",
      "723      14.0  15.265166\n"
     ]
    }
   ],
   "source": [
    "from sklearn.linear_model import LinearRegression\n",
    "\n",
    "model = LinearRegression()\n",
    "model.fit(X_train, y_train)\n",
    "y_pred = model.predict(X_test)\n",
    "\n",
    "# Convert predictions and actual values to a DataFrame for easy comparison\n",
    "results = pd.DataFrame({'Actual': y_test, 'Predicted': y_pred})\n",
    "\n",
    "# Display the first few rows\n",
    "print(results.head())\n"
   ]
  },
  {
   "cell_type": "code",
   "execution_count": null,
   "metadata": {},
   "outputs": [],
   "source": []
  }
 ],
 "metadata": {
  "kernelspec": {
   "display_name": "Python 3",
   "language": "python",
   "name": "python3"
  },
  "language_info": {
   "codemirror_mode": {
    "name": "ipython",
    "version": 3
   },
   "file_extension": ".py",
   "mimetype": "text/x-python",
   "name": "python",
   "nbconvert_exporter": "python",
   "pygments_lexer": "ipython3",
   "version": "3.12.4"
  }
 },
 "nbformat": 4,
 "nbformat_minor": 2
}
