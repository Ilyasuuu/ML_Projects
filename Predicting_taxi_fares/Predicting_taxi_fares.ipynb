{
 "cells": [
  {
   "cell_type": "code",
   "execution_count": 63,
   "metadata": {},
   "outputs": [],
   "source": [
    "import pandas as pd \n",
    "import numpy as np\n",
    "import matplotlib.pyplot as plt\n",
    "import seaborn as sns\n"
   ]
  },
  {
   "cell_type": "code",
   "execution_count": 64,
   "metadata": {},
   "outputs": [
    {
     "name": "stdout",
     "output_type": "stream",
     "text": [
      "Index(['medallion', 'pickup_datetime', 'pickup_longitude', 'pickup_latitude',\n",
      "       'trip_time_in_secs', 'fare_amount', 'tip_amount'],\n",
      "      dtype='object')\n"
     ]
    }
   ],
   "source": [
    "taxi_data = pd.read_csv(\"taxi.csv\")\n",
    "taxi_data.head()\n",
    "print(taxi_data.columns)"
   ]
  },
  {
   "cell_type": "code",
   "execution_count": 65,
   "metadata": {},
   "outputs": [
    {
     "name": "stdout",
     "output_type": "stream",
     "text": [
      "Index(['medallion', 'hack_license', 'vendor_id', 'rate_code',\n",
      "       'store_and_fwd_flag', 'pickup_datetime', 'dropoff_datetime',\n",
      "       'passenger_count', 'trip_time_in_secs', 'trip_distance',\n",
      "       'pickup_longitude', 'pickup_latitude', 'dropoff_longitude',\n",
      "       'dropoff_latitude'],\n",
      "      dtype='object')\n"
     ]
    }
   ],
   "source": [
    "trips_data = pd.read_csv(\"trips.csv\")\n",
    "trips_data.head()\n",
    "print(trips_data.columns)"
   ]
  },
  {
   "cell_type": "code",
   "execution_count": 66,
   "metadata": {},
   "outputs": [
    {
     "name": "stdout",
     "output_type": "stream",
     "text": [
      "Index(['medallion', 'hack_license', 'vendor_id', 'rate_code',\n",
      "       'store_and_fwd_flag', 'pickup_datetime', 'dropoff_datetime',\n",
      "       'passenger_count', 'trip_time_in_secs', 'trip_distance',\n",
      "       'pickup_longitude', 'pickup_latitude', 'dropoff_longitude',\n",
      "       'dropoff_latitude', 'fare_amount', 'tip_amount'],\n",
      "      dtype='object')\n"
     ]
    }
   ],
   "source": [
    "merge_data = pd.merge(trips_data, taxi_data)\n",
    "print(merge_data.columns)"
   ]
  },
  {
   "cell_type": "code",
   "execution_count": 67,
   "metadata": {},
   "outputs": [
    {
     "name": "stdout",
     "output_type": "stream",
     "text": [
      "Index(['medallion', 'pickup_datetime', 'dropoff_datetime', 'trip_time_in_secs',\n",
      "       'trip_distance', 'pickup_longitude', 'pickup_latitude',\n",
      "       'dropoff_longitude', 'dropoff_latitude', 'fare_amount'],\n",
      "      dtype='object')\n"
     ]
    }
   ],
   "source": [
    "merge_data = merge_data.drop(['hack_license', 'vendor_id', 'rate_code', 'store_and_fwd_flag', 'passenger_count', 'tip_amount'], axis=1)\n",
    "print(merge_data.columns)\n",
    "\n"
   ]
  },
  {
   "cell_type": "code",
   "execution_count": 71,
   "metadata": {},
   "outputs": [
    {
     "data": {
      "text/html": [
       "<div>\n",
       "<style scoped>\n",
       "    .dataframe tbody tr th:only-of-type {\n",
       "        vertical-align: middle;\n",
       "    }\n",
       "\n",
       "    .dataframe tbody tr th {\n",
       "        vertical-align: top;\n",
       "    }\n",
       "\n",
       "    .dataframe thead th {\n",
       "        text-align: right;\n",
       "    }\n",
       "</style>\n",
       "<table border=\"1\" class=\"dataframe\">\n",
       "  <thead>\n",
       "    <tr style=\"text-align: right;\">\n",
       "      <th></th>\n",
       "      <th>medallion</th>\n",
       "      <th>pickup_datetime</th>\n",
       "      <th>dropoff_datetime</th>\n",
       "      <th>trip_time_in_secs</th>\n",
       "      <th>trip_distance</th>\n",
       "      <th>pickup_longitude</th>\n",
       "      <th>pickup_latitude</th>\n",
       "      <th>dropoff_longitude</th>\n",
       "      <th>dropoff_latitude</th>\n",
       "      <th>fare_amount</th>\n",
       "    </tr>\n",
       "  </thead>\n",
       "  <tbody>\n",
       "    <tr>\n",
       "      <th>0</th>\n",
       "      <td>4D24F4D8EF35878595044A52B098DFD2</td>\n",
       "      <td>2013-01-13T10:23:00Z</td>\n",
       "      <td>2013-01-13T10:33:00Z</td>\n",
       "      <td>600</td>\n",
       "      <td>1.11</td>\n",
       "      <td>-73.946457</td>\n",
       "      <td>40.772728</td>\n",
       "      <td>-73.954819</td>\n",
       "      <td>40.777840</td>\n",
       "      <td>8.0</td>\n",
       "    </tr>\n",
       "    <tr>\n",
       "      <th>1</th>\n",
       "      <td>A49C37EB966E7B05E69523D1CB7BE303</td>\n",
       "      <td>2013-01-13T04:52:00Z</td>\n",
       "      <td>2013-01-13T05:06:00Z</td>\n",
       "      <td>840</td>\n",
       "      <td>5.35</td>\n",
       "      <td>-73.998268</td>\n",
       "      <td>40.740414</td>\n",
       "      <td>-73.984909</td>\n",
       "      <td>40.674999</td>\n",
       "      <td>18.0</td>\n",
       "    </tr>\n",
       "    <tr>\n",
       "      <th>2</th>\n",
       "      <td>1E4B72A8E623888F53A9693C364AC05A</td>\n",
       "      <td>2013-01-13T10:47:00Z</td>\n",
       "      <td>2013-01-13T10:48:00Z</td>\n",
       "      <td>60</td>\n",
       "      <td>0.50</td>\n",
       "      <td>-73.953461</td>\n",
       "      <td>40.775864</td>\n",
       "      <td>-73.955238</td>\n",
       "      <td>40.773216</td>\n",
       "      <td>3.5</td>\n",
       "    </tr>\n",
       "    <tr>\n",
       "      <th>3</th>\n",
       "      <td>F7E4E9439C46B8AD5B16AB9F1B3279D7</td>\n",
       "      <td>2013-01-13T11:14:00Z</td>\n",
       "      <td>2013-01-13T11:26:00Z</td>\n",
       "      <td>720</td>\n",
       "      <td>2.66</td>\n",
       "      <td>-73.981369</td>\n",
       "      <td>40.724731</td>\n",
       "      <td>-74.012932</td>\n",
       "      <td>40.717426</td>\n",
       "      <td>11.5</td>\n",
       "    </tr>\n",
       "    <tr>\n",
       "      <th>4</th>\n",
       "      <td>A9DC75D59E0EA27E1ED328E8BE8CD828</td>\n",
       "      <td>2013-01-13T11:24:00Z</td>\n",
       "      <td>2013-01-13T11:28:00Z</td>\n",
       "      <td>240</td>\n",
       "      <td>1.49</td>\n",
       "      <td>-73.967995</td>\n",
       "      <td>40.760002</td>\n",
       "      <td>-73.955513</td>\n",
       "      <td>40.776730</td>\n",
       "      <td>6.5</td>\n",
       "    </tr>\n",
       "  </tbody>\n",
       "</table>\n",
       "</div>"
      ],
      "text/plain": [
       "                          medallion       pickup_datetime  \\\n",
       "0  4D24F4D8EF35878595044A52B098DFD2  2013-01-13T10:23:00Z   \n",
       "1  A49C37EB966E7B05E69523D1CB7BE303  2013-01-13T04:52:00Z   \n",
       "2  1E4B72A8E623888F53A9693C364AC05A  2013-01-13T10:47:00Z   \n",
       "3  F7E4E9439C46B8AD5B16AB9F1B3279D7  2013-01-13T11:14:00Z   \n",
       "4  A9DC75D59E0EA27E1ED328E8BE8CD828  2013-01-13T11:24:00Z   \n",
       "\n",
       "       dropoff_datetime  trip_time_in_secs  trip_distance  pickup_longitude  \\\n",
       "0  2013-01-13T10:33:00Z                600           1.11        -73.946457   \n",
       "1  2013-01-13T05:06:00Z                840           5.35        -73.998268   \n",
       "2  2013-01-13T10:48:00Z                 60           0.50        -73.953461   \n",
       "3  2013-01-13T11:26:00Z                720           2.66        -73.981369   \n",
       "4  2013-01-13T11:28:00Z                240           1.49        -73.967995   \n",
       "\n",
       "   pickup_latitude  dropoff_longitude  dropoff_latitude  fare_amount  \n",
       "0        40.772728         -73.954819         40.777840          8.0  \n",
       "1        40.740414         -73.984909         40.674999         18.0  \n",
       "2        40.775864         -73.955238         40.773216          3.5  \n",
       "3        40.724731         -74.012932         40.717426         11.5  \n",
       "4        40.760002         -73.955513         40.776730          6.5  "
      ]
     },
     "execution_count": 71,
     "metadata": {},
     "output_type": "execute_result"
    }
   ],
   "source": [
    "merge_data = merge_data.dropna()\n",
    "merge_data.head()\n"
   ]
  },
  {
   "cell_type": "code",
   "execution_count": 72,
   "metadata": {},
   "outputs": [
    {
     "data": {
      "text/plain": [
       "medallion\n",
       "BCC1B5B7D9596FEC872C9DAD725310B3    15\n",
       "723B5809862054401FA26A9219A45FC5    15\n",
       "CBAAA9C7A2B8ADF468BA2477E22BD763    14\n",
       "D6FDD900F5504C7FD5C0B999966E0F07    13\n",
       "B6585890F68EE02702F32DECDEABC2A8    13\n",
       "                                    ..\n",
       "85E0A289F58009CF568A928219082EDC     1\n",
       "6C0E03106318253CAD879114FC991B66     1\n",
       "7A4720A674F0EDBF9E71EB37EF0DB47B     1\n",
       "473E20C6CBE91A07C2CA161158E35AE4     1\n",
       "A6DB36B570BD59E08FBE76086C5EE662     1\n",
       "Name: count, Length: 12744, dtype: int64"
      ]
     },
     "execution_count": 72,
     "metadata": {},
     "output_type": "execute_result"
    }
   ],
   "source": [
    "merge_data['medallion'].value_counts()"
   ]
  },
  {
   "cell_type": "code",
   "execution_count": null,
   "metadata": {},
   "outputs": [],
   "source": []
  }
 ],
 "metadata": {
  "kernelspec": {
   "display_name": "Python 3",
   "language": "python",
   "name": "python3"
  },
  "language_info": {
   "codemirror_mode": {
    "name": "ipython",
    "version": 3
   },
   "file_extension": ".py",
   "mimetype": "text/x-python",
   "name": "python",
   "nbconvert_exporter": "python",
   "pygments_lexer": "ipython3",
   "version": "3.12.4"
  }
 },
 "nbformat": 4,
 "nbformat_minor": 2
}
