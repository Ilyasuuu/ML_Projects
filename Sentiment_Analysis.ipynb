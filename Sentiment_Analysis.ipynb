{
 "cells": [
  {
   "cell_type": "code",
   "execution_count": 1,
   "metadata": {},
   "outputs": [
    {
     "name": "stdout",
     "output_type": "stream",
     "text": [
      "(74682, 4)\n"
     ]
    }
   ],
   "source": [
    "import pandas as pd \n",
    "import numpy as np\n",
    "import matplotlib.pyplot as plt\n",
    "import seaborn as sns\n",
    "\n",
    "# Load the dataset\n",
    "url = 'twitter_training.csv'\n",
    "data = pd.read_csv(url, names = ['Id','Company', 'Sentiment', 'Tweet'])\n",
    "print(data.shape)\n"
   ]
  },
  {
   "cell_type": "code",
   "execution_count": 2,
   "metadata": {},
   "outputs": [
    {
     "data": {
      "text/html": [
       "<div>\n",
       "<style scoped>\n",
       "    .dataframe tbody tr th:only-of-type {\n",
       "        vertical-align: middle;\n",
       "    }\n",
       "\n",
       "    .dataframe tbody tr th {\n",
       "        vertical-align: top;\n",
       "    }\n",
       "\n",
       "    .dataframe thead th {\n",
       "        text-align: right;\n",
       "    }\n",
       "</style>\n",
       "<table border=\"1\" class=\"dataframe\">\n",
       "  <thead>\n",
       "    <tr style=\"text-align: right;\">\n",
       "      <th></th>\n",
       "      <th>Id</th>\n",
       "      <th>Company</th>\n",
       "      <th>Sentiment</th>\n",
       "      <th>Tweet</th>\n",
       "    </tr>\n",
       "  </thead>\n",
       "  <tbody>\n",
       "    <tr>\n",
       "      <th>0</th>\n",
       "      <td>2401</td>\n",
       "      <td>Borderlands</td>\n",
       "      <td>Positive</td>\n",
       "      <td>im getting on borderlands and i will murder yo...</td>\n",
       "    </tr>\n",
       "    <tr>\n",
       "      <th>1</th>\n",
       "      <td>2401</td>\n",
       "      <td>Borderlands</td>\n",
       "      <td>Positive</td>\n",
       "      <td>I am coming to the borders and I will kill you...</td>\n",
       "    </tr>\n",
       "    <tr>\n",
       "      <th>2</th>\n",
       "      <td>2401</td>\n",
       "      <td>Borderlands</td>\n",
       "      <td>Positive</td>\n",
       "      <td>im getting on borderlands and i will kill you ...</td>\n",
       "    </tr>\n",
       "    <tr>\n",
       "      <th>3</th>\n",
       "      <td>2401</td>\n",
       "      <td>Borderlands</td>\n",
       "      <td>Positive</td>\n",
       "      <td>im coming on borderlands and i will murder you...</td>\n",
       "    </tr>\n",
       "    <tr>\n",
       "      <th>4</th>\n",
       "      <td>2401</td>\n",
       "      <td>Borderlands</td>\n",
       "      <td>Positive</td>\n",
       "      <td>im getting on borderlands 2 and i will murder ...</td>\n",
       "    </tr>\n",
       "  </tbody>\n",
       "</table>\n",
       "</div>"
      ],
      "text/plain": [
       "     Id      Company Sentiment  \\\n",
       "0  2401  Borderlands  Positive   \n",
       "1  2401  Borderlands  Positive   \n",
       "2  2401  Borderlands  Positive   \n",
       "3  2401  Borderlands  Positive   \n",
       "4  2401  Borderlands  Positive   \n",
       "\n",
       "                                               Tweet  \n",
       "0  im getting on borderlands and i will murder yo...  \n",
       "1  I am coming to the borders and I will kill you...  \n",
       "2  im getting on borderlands and i will kill you ...  \n",
       "3  im coming on borderlands and i will murder you...  \n",
       "4  im getting on borderlands 2 and i will murder ...  "
      ]
     },
     "execution_count": 2,
     "metadata": {},
     "output_type": "execute_result"
    }
   ],
   "source": [
    "\n",
    "data.head()"
   ]
  },
  {
   "cell_type": "code",
   "execution_count": 3,
   "metadata": {},
   "outputs": [
    {
     "data": {
      "text/plain": [
       "Company\n",
       "TomClancysRainbowSix                 2400\n",
       "MaddenNFL                            2400\n",
       "Microsoft                            2400\n",
       "LeagueOfLegends                      2394\n",
       "CallOfDuty                           2394\n",
       "Verizon                              2382\n",
       "CallOfDutyBlackopsColdWar            2376\n",
       "ApexLegends                          2376\n",
       "Facebook                             2370\n",
       "WorldOfCraft                         2364\n",
       "Dota2                                2364\n",
       "NBA2K                                2352\n",
       "TomClancysGhostRecon                 2346\n",
       "Battlefield                          2346\n",
       "FIFA                                 2340\n",
       "Xbox(Xseries)                        2334\n",
       "Overwatch                            2334\n",
       "johnson&johnson                      2328\n",
       "Amazon                               2316\n",
       "PlayStation5(PS5)                    2310\n",
       "HomeDepot                            2310\n",
       "Cyberpunk2077                        2304\n",
       "CS-GO                                2304\n",
       "GrandTheftAuto(GTA)                  2304\n",
       "Hearthstone                          2298\n",
       "Nvidia                               2298\n",
       "Google                               2298\n",
       "Borderlands                          2286\n",
       "PlayerUnknownsBattlegrounds(PUBG)    2274\n",
       "Fortnite                             2274\n",
       "RedDeadRedemption(RDR)               2262\n",
       "AssassinsCreed                       2244\n",
       "Name: count, dtype: int64"
      ]
     },
     "execution_count": 3,
     "metadata": {},
     "output_type": "execute_result"
    }
   ],
   "source": [
    "data['Company'].value_counts() "
   ]
  },
  {
   "cell_type": "code",
   "execution_count": 4,
   "metadata": {},
   "outputs": [
    {
     "name": "stdout",
     "output_type": "stream",
     "text": [
      "         Id    Company Sentiment  \\\n",
      "63006  7601  MaddenNFL  Negative   \n",
      "63007  7601  MaddenNFL  Negative   \n",
      "63008  7601  MaddenNFL  Negative   \n",
      "63009  7601  MaddenNFL  Negative   \n",
      "63010  7601  MaddenNFL  Negative   \n",
      "...     ...        ...       ...   \n",
      "65401  8000  MaddenNFL  Negative   \n",
      "65402  8000  MaddenNFL  Negative   \n",
      "65403  8000  MaddenNFL  Negative   \n",
      "65404  8000  MaddenNFL  Negative   \n",
      "65405  8000  MaddenNFL  Negative   \n",
      "\n",
      "                                                   Tweet  \n",
      "63006  Bro fuck madden 21 why does the game modes nev...  \n",
      "63007  Bro fuck madden 21 Why do the game modes never...  \n",
      "63008  Bro fuck madden 21 why does the game modes nev...  \n",
      "63009  Bro fuck madden 21 why does english game modes...  \n",
      "63010  Bro fuck madden 21 guys why now does the game ...  \n",
      "...                                                  ...  \n",
      "65401  2k5 was the best football game I ever had.. Go...  \n",
      "65402      2k5 was the best football game I've ever had.  \n",
      "65403  2k5 was the best video game I ever had.. Gon o...  \n",
      "65404  2k5 which was the 7th best football championsh...  \n",
      "65405  2k5 was the best football game I ever seen.. G...  \n",
      "\n",
      "[2400 rows x 4 columns]\n"
     ]
    },
    {
     "data": {
      "text/plain": [
       "Sentiment\n",
       "Negative      1710\n",
       "Positive       396\n",
       "Neutral        204\n",
       "Irrelevant      90\n",
       "Name: count, dtype: int64"
      ]
     },
     "execution_count": 4,
     "metadata": {},
     "output_type": "execute_result"
    }
   ],
   "source": [
    "Madden_tweets=data[data['Company']=='MaddenNFL']\n",
    "print(Madden_tweets)\n",
    "Madden_tweets['Sentiment'].value_counts() \n"
   ]
  },
  {
   "cell_type": "code",
   "execution_count": 5,
   "metadata": {},
   "outputs": [
    {
     "name": "stdout",
     "output_type": "stream",
     "text": [
      "Accuracy: 0.6887837837837838\n",
      "              precision    recall  f1-score   support\n",
      "\n",
      "  Irrelevant       0.70      0.53      0.60      2556\n",
      "    Negative       0.69      0.80      0.74      4508\n",
      "     Neutral       0.73      0.58      0.65      3602\n",
      "    Positive       0.66      0.76      0.71      4134\n",
      "\n",
      "    accuracy                           0.69     14800\n",
      "   macro avg       0.69      0.67      0.67     14800\n",
      "weighted avg       0.69      0.69      0.68     14800\n",
      "\n"
     ]
    }
   ],
   "source": [
    "from sklearn.model_selection import train_test_split\n",
    "from sklearn.feature_extraction.text import CountVectorizer\n",
    "from sklearn.pipeline import Pipeline\n",
    "from sklearn.naive_bayes import MultinomialNB\n",
    "from sklearn.metrics import classification_report, accuracy_score\n",
    "\n",
    "# Dropping rows with missing values\n",
    "data.dropna(subset=['Tweet', 'Sentiment'], inplace=True)\n",
    "\n",
    "# Setting up CountVectorizer with appropriate parameters\n",
    "cv = CountVectorizer(stop_words='english', min_df=2, max_df=0.95, max_features=10000)\n",
    "\n",
    "# Splitting the data into training and testing sets\n",
    "X_train, X_test, y_train, y_test = train_test_split(\n",
    "    data['Tweet'].values,\n",
    "    data['Sentiment'].values,\n",
    "    random_state=50,\n",
    "    test_size=0.2\n",
    ")\n",
    "\n",
    "# Creating a pipeline for vectorization and model training\n",
    "pipeline = Pipeline([\n",
    "    ('vectorizer', cv),\n",
    "    ('classifier', MultinomialNB())\n",
    "])\n",
    "\n",
    "# Fitting the model with training data\n",
    "pipeline.fit(X_train, y_train)\n",
    "\n",
    "# Transforming the test data and predicting\n",
    "y_pred = pipeline.predict(X_test)\n",
    "\n",
    "# Evaluating the model\n",
    "print(f\"Accuracy: {accuracy_score(y_test, y_pred)}\")\n",
    "print(classification_report(y_test, y_pred))"
   ]
  },
  {
   "cell_type": "code",
   "execution_count": 6,
   "metadata": {},
   "outputs": [
    {
     "name": "stdout",
     "output_type": "stream",
     "text": [
      "Model: Logistic Regression\n",
      "Accuracy: 0.7837837837837838\n",
      "              precision    recall  f1-score   support\n",
      "\n",
      "  Irrelevant       0.81      0.68      0.74      2556\n",
      "    Negative       0.81      0.83      0.82      4508\n",
      "     Neutral       0.81      0.73      0.77      3602\n",
      "    Positive       0.73      0.84      0.78      4134\n",
      "\n",
      "    accuracy                           0.78     14800\n",
      "   macro avg       0.79      0.77      0.78     14800\n",
      "weighted avg       0.79      0.78      0.78     14800\n",
      "\n",
      "============================================================\n",
      "Model: Naive Bayes\n",
      "Accuracy: 0.6887837837837838\n",
      "              precision    recall  f1-score   support\n",
      "\n",
      "  Irrelevant       0.70      0.53      0.60      2556\n",
      "    Negative       0.69      0.80      0.74      4508\n",
      "     Neutral       0.73      0.58      0.65      3602\n",
      "    Positive       0.66      0.76      0.71      4134\n",
      "\n",
      "    accuracy                           0.69     14800\n",
      "   macro avg       0.69      0.67      0.67     14800\n",
      "weighted avg       0.69      0.69      0.68     14800\n",
      "\n",
      "============================================================\n",
      "Model: Extra Trees Classifier\n",
      "Accuracy: 0.9050675675675676\n",
      "              precision    recall  f1-score   support\n",
      "\n",
      "  Irrelevant       0.93      0.85      0.89      2556\n",
      "    Negative       0.93      0.92      0.92      4508\n",
      "     Neutral       0.94      0.89      0.91      3602\n",
      "    Positive       0.85      0.94      0.89      4134\n",
      "\n",
      "    accuracy                           0.91     14800\n",
      "   macro avg       0.91      0.90      0.90     14800\n",
      "weighted avg       0.91      0.91      0.91     14800\n",
      "\n",
      "============================================================\n"
     ]
    }
   ],
   "source": [
    "from sklearn.linear_model import LogisticRegression\n",
    "from sklearn.naive_bayes import MultinomialNB\n",
    "from sklearn.ensemble import  ExtraTreesClassifier \n",
    "\n",
    "# Define your classifiers\n",
    "classifiers = {\n",
    "    'Logistic Regression': LogisticRegression(max_iter=1000),\n",
    "    'Naive Bayes': MultinomialNB(),\n",
    "    'Extra Trees Classifier' : ExtraTreesClassifier()\n",
    "}\n",
    "\n",
    "# Loop through classifiers to evaluate each one\n",
    "for name, clf in classifiers.items():\n",
    "    pipeline = Pipeline([\n",
    "        ('vectorizer', CountVectorizer(stop_words='english', min_df=2, max_df=0.95, max_features=10000)),\n",
    "        ('classifier', clf)\n",
    "    ])\n",
    "    \n",
    "    # Train the model\n",
    "    pipeline.fit(X_train, y_train)\n",
    "    \n",
    "    # Predict and evaluate\n",
    "    y_pred = pipeline.predict(X_test)\n",
    "    print(f\"Model: {name}\")\n",
    "    print(f\"Accuracy: {accuracy_score(y_test, y_pred)}\")\n",
    "    print(classification_report(y_test, y_pred))\n",
    "    print(\"=\"*60)\n"
   ]
  },
  {
   "cell_type": "code",
   "execution_count": 7,
   "metadata": {},
   "outputs": [
    {
     "name": "stdout",
     "output_type": "stream",
     "text": [
      "Model: Logistic Regression\n",
      "Accuracy: 0.957983193277311\n",
      "              precision    recall  f1-score   support\n",
      "\n",
      "  Irrelevant       1.00      0.64      0.78        14\n",
      "    Negative       0.95      0.99      0.97       359\n",
      "     Neutral       1.00      0.83      0.91        36\n",
      "    Positive       0.95      0.90      0.92        67\n",
      "\n",
      "    accuracy                           0.96       476\n",
      "   macro avg       0.98      0.84      0.90       476\n",
      "weighted avg       0.96      0.96      0.96       476\n",
      "\n",
      "============================================================\n"
     ]
    },
    {
     "name": "stderr",
     "output_type": "stream",
     "text": [
      "C:\\Users\\ITWORK\\AppData\\Local\\Temp\\ipykernel_388\\3177944071.py:2: SettingWithCopyWarning: \n",
      "A value is trying to be set on a copy of a slice from a DataFrame\n",
      "\n",
      "See the caveats in the documentation: https://pandas.pydata.org/pandas-docs/stable/user_guide/indexing.html#returning-a-view-versus-a-copy\n",
      "  Madden_tweets.dropna(subset=['Tweet', 'Sentiment'], inplace=True)\n"
     ]
    },
    {
     "name": "stdout",
     "output_type": "stream",
     "text": [
      "Model: Naive Bayes\n",
      "Accuracy: 0.9411764705882353\n",
      "              precision    recall  f1-score   support\n",
      "\n",
      "  Irrelevant       0.90      0.64      0.75        14\n",
      "    Negative       0.95      0.98      0.96       359\n",
      "     Neutral       0.89      0.86      0.87        36\n",
      "    Positive       0.95      0.84      0.89        67\n",
      "\n",
      "    accuracy                           0.94       476\n",
      "   macro avg       0.92      0.83      0.87       476\n",
      "weighted avg       0.94      0.94      0.94       476\n",
      "\n",
      "============================================================\n",
      "Model: Extra Trees Classifier\n",
      "Accuracy: 0.9663865546218487\n",
      "              precision    recall  f1-score   support\n",
      "\n",
      "  Irrelevant       1.00      0.79      0.88        14\n",
      "    Negative       0.97      0.99      0.98       359\n",
      "     Neutral       1.00      0.89      0.94        36\n",
      "    Positive       0.94      0.93      0.93        67\n",
      "\n",
      "    accuracy                           0.97       476\n",
      "   macro avg       0.98      0.90      0.93       476\n",
      "weighted avg       0.97      0.97      0.97       476\n",
      "\n",
      "============================================================\n"
     ]
    }
   ],
   "source": [
    "# Dropping rows with missing values in Madden tweets\n",
    "Madden_tweets.dropna(subset=['Tweet', 'Sentiment'], inplace=True)\n",
    "\n",
    "# Splitting the Madden tweets data into training and testing sets\n",
    "X_train, X_test, y_train, y_test = train_test_split(\n",
    "    Madden_tweets['Tweet'].values,\n",
    "    Madden_tweets['Sentiment'].values,\n",
    "    random_state=50,\n",
    "    test_size=0.2\n",
    ")\n",
    "\n",
    "# Define your classifiers\n",
    "classifiers = {\n",
    "    'Logistic Regression': LogisticRegression(max_iter=1000),\n",
    "    'Naive Bayes': MultinomialNB(),\n",
    "    'Extra Trees Classifier': ExtraTreesClassifier()\n",
    "}\n",
    "\n",
    "# Loop through classifiers to evaluate each one\n",
    "for name, clf in classifiers.items():\n",
    "    pipeline = Pipeline([\n",
    "        ('vectorizer', CountVectorizer(stop_words='english', min_df=2, max_df=0.95, max_features=10000)),\n",
    "        ('classifier', clf)\n",
    "    ])\n",
    "    \n",
    "    # Train the model\n",
    "    pipeline.fit(X_train, y_train)\n",
    "    \n",
    "    # Predict and evaluate\n",
    "    y_pred = pipeline.predict(X_test)\n",
    "    print(f\"Model: {name}\")\n",
    "    print(f\"Accuracy: {accuracy_score(y_test, y_pred)}\")\n",
    "    print(classification_report(y_test, y_pred))\n",
    "    print(\"=\"*60)\n"
   ]
  },
  {
   "cell_type": "code",
   "execution_count": 8,
   "metadata": {},
   "outputs": [
    {
     "name": "stdout",
     "output_type": "stream",
     "text": [
      "Model: Logistic Regression\n",
      "Best Parameters: {'classifier__C': 10}\n",
      "Cross-validated Accuracy: 0.9626495372288991 ± 0.014067645298448641\n",
      "Test Accuracy: 0.9747899159663865\n",
      "              precision    recall  f1-score   support\n",
      "\n",
      "  Irrelevant       1.00      0.79      0.88        14\n",
      "    Negative       0.97      1.00      0.98       359\n",
      "     Neutral       1.00      0.92      0.96        36\n",
      "    Positive       0.98      0.93      0.95        67\n",
      "\n",
      "    accuracy                           0.97       476\n",
      "   macro avg       0.99      0.91      0.94       476\n",
      "weighted avg       0.98      0.97      0.97       476\n",
      "\n",
      "============================================================\n",
      "Model: Naive Bayes\n",
      "Best Parameters: {'classifier__alpha': 0.1}\n",
      "Cross-validated Accuracy: 0.9452838789888105 ± 0.015931724692701186\n",
      "Test Accuracy: 0.9684873949579832\n",
      "              precision    recall  f1-score   support\n",
      "\n",
      "  Irrelevant       1.00      0.64      0.78        14\n",
      "    Negative       0.96      1.00      0.98       359\n",
      "     Neutral       0.97      0.92      0.94        36\n",
      "    Positive       1.00      0.91      0.95        67\n",
      "\n",
      "    accuracy                           0.97       476\n",
      "   macro avg       0.98      0.87      0.91       476\n",
      "weighted avg       0.97      0.97      0.97       476\n",
      "\n",
      "============================================================\n",
      "Model: Extra Trees Classifier\n",
      "Best Parameters: {'classifier__n_estimators': 200}\n",
      "Cross-validated Accuracy: 0.9610747340792927 ± 0.015820172938638723\n",
      "Test Accuracy: 0.9726890756302521\n",
      "              precision    recall  f1-score   support\n",
      "\n",
      "  Irrelevant       1.00      0.79      0.88        14\n",
      "    Negative       0.97      0.99      0.98       359\n",
      "     Neutral       1.00      0.89      0.94        36\n",
      "    Positive       0.97      0.94      0.95        67\n",
      "\n",
      "    accuracy                           0.97       476\n",
      "   macro avg       0.98      0.90      0.94       476\n",
      "weighted avg       0.97      0.97      0.97       476\n",
      "\n",
      "============================================================\n"
     ]
    }
   ],
   "source": [
    "from sklearn.model_selection import GridSearchCV, cross_val_score\n",
    "from sklearn.feature_extraction.text import TfidfVectorizer\n",
    "\n",
    "# Use TF-IDF Vectorizer instead of CountVectorizer\n",
    "vectorizer = TfidfVectorizer(stop_words='english', min_df=2, max_df=0.95, max_features=10000)\n",
    "\n",
    "# Define classifiers with hyperparameter tuning\n",
    "param_grid = {\n",
    "    'Logistic Regression': {\n",
    "        'classifier__C': [0.1, 1, 10]\n",
    "    },\n",
    "    'Naive Bayes': {\n",
    "        'classifier__alpha': [0.1, 1, 10]\n",
    "    },\n",
    "    'Extra Trees Classifier': {\n",
    "        'classifier__n_estimators': [50, 100, 200]\n",
    "    }\n",
    "}\n",
    "\n",
    "for name, clf in classifiers.items():\n",
    "    pipeline = Pipeline([\n",
    "        ('vectorizer', vectorizer),\n",
    "        ('classifier', clf)\n",
    "    ])\n",
    "    \n",
    "    # Use GridSearchCV for hyperparameter tuning\n",
    "    grid_search = GridSearchCV(pipeline, param_grid[name], cv=5, scoring='accuracy')\n",
    "    grid_search.fit(X_train, y_train)\n",
    "    \n",
    "    # Best estimator\n",
    "    best_model = grid_search.best_estimator_\n",
    "    \n",
    "    # Cross-validated performance\n",
    "    cv_scores = cross_val_score(best_model, X_train, y_train, cv=5, scoring='accuracy')\n",
    "    \n",
    "    # Predict and evaluate\n",
    "    y_pred = best_model.predict(X_test)\n",
    "    \n",
    "    print(f\"Model: {name}\")\n",
    "    print(f\"Best Parameters: {grid_search.best_params_}\")\n",
    "    print(f\"Cross-validated Accuracy: {cv_scores.mean()} ± {cv_scores.std()}\")\n",
    "    print(f\"Test Accuracy: {accuracy_score(y_test, y_pred)}\")\n",
    "    print(classification_report(y_test, y_pred))\n",
    "    print(\"=\"*60)\n"
   ]
  },
  {
   "cell_type": "code",
   "execution_count": 21,
   "metadata": {},
   "outputs": [
    {
     "data": {
      "image/png": "[encoded data removed]",
      "text/plain": [
       "<Figure size 800x600 with 2 Axes>"
      ]
     },
     "metadata": {},
     "output_type": "display_data"
    }
   ],
   "source": [
    "import matplotlib.pyplot as plt\n",
    "import seaborn as sns\n",
    "from sklearn.metrics import confusion_matrix\n",
    "from sklearn.linear_model import LogisticRegression\n",
    "from sklearn.feature_extraction.text import TfidfVectorizer\n",
    "from sklearn.pipeline import Pipeline\n",
    "from sklearn.model_selection import train_test_split\n",
    "from sklearn.datasets import fetch_20newsgroups\n",
    "\n",
    "# Sample data loading and splitting (using 20 newsgroups dataset as an example)\n",
    "data = fetch_20newsgroups(subset='all', categories=['rec.sport.baseball', 'rec.sport.hockey'], shuffle=True, random_state=42)\n",
    "X_train, X_test, y_train, y_test = train_test_split(data.data, data.target, test_size=0.2, random_state=42)\n",
    "\n",
    "# Define a simple classifier and vectorizer for testing\n",
    "pipeline = Pipeline([\n",
    "    ('vectorizer', TfidfVectorizer(stop_words='english', min_df=2, max_df=0.95, max_features=10000)),\n",
    "    ('classifier', LogisticRegression(max_iter=1000))\n",
    "])\n",
    "\n",
    "pipeline.fit(X_train, y_train)\n",
    "y_pred = pipeline.predict(X_test)\n",
    "cm = confusion_matrix(y_test, y_pred)\n",
    "\n",
    "plt.figure(figsize=(8, 6))\n",
    "sns.heatmap(cm, annot=True, fmt='d', cmap='Blues')\n",
    "plt.title('Confusion Matrix for Logistic Regression')\n",
    "plt.xlabel('Predicted')\n",
    "plt.ylabel('Actual')\n",
    "plt.show()\n"
   ]
  },
  {
   "cell_type": "code",
   "execution_count": 22,
   "metadata": {},
   "outputs": [
    {
     "data": {
      "image/png": "[encoded data removed]",
      "text/plain": [
       "<Figure size 1000x800 with 1 Axes>"
      ]
     },
     "metadata": {},
     "output_type": "display_data"
    }
   ],
   "source": [
    "from sklearn.metrics import roc_curve, roc_auc_score\n",
    "\n",
    "plt.figure(figsize=(10, 8))\n",
    "\n",
    "for name, model in best_models.items():\n",
    "    y_proba = model.predict_proba(X_test)[:, 1]\n",
    "    fpr, tpr, _ = roc_curve(y_test, y_proba)\n",
    "    auc = roc_auc_score(y_test, y_proba)\n",
    "    \n",
    "    plt.plot(fpr, tpr, label=f'{name} (AUC = {auc:.2f})')\n",
    "\n",
    "plt.plot([0, 1], [0, 1], 'k--')\n",
    "plt.xlabel('False Positive Rate')\n",
    "plt.ylabel('True Positive Rate')\n",
    "plt.title('ROC Curve')\n",
    "plt.legend(loc='best')\n",
    "plt.show()\n"
   ]
  },
  {
   "cell_type": "code",
   "execution_count": 23,
   "metadata": {},
   "outputs": [
    {
     "data": {
      "image/png": "[encoded data removed]",
      "text/plain": [
       "<Figure size 1000x800 with 1 Axes>"
      ]
     },
     "metadata": {},
     "output_type": "display_data"
    }
   ],
   "source": [
    "from sklearn.metrics import precision_recall_curve\n",
    "\n",
    "plt.figure(figsize=(10, 8))\n",
    "\n",
    "for name, model in best_models.items():\n",
    "    y_proba = model.predict_proba(X_test)[:, 1]\n",
    "    precision, recall, _ = precision_recall_curve(y_test, y_proba)\n",
    "    \n",
    "    plt.plot(recall, precision, label=name)\n",
    "\n",
    "plt.xlabel('Recall')\n",
    "plt.ylabel('Precision')\n",
    "plt.title('Precision-Recall Curve')\n",
    "plt.legend(loc='best')\n",
    "plt.show()\n"
   ]
  },
  {
   "cell_type": "code",
   "execution_count": 29,
   "metadata": {},
   "outputs": [
    {
     "name": "stdout",
     "output_type": "stream",
     "text": [
      "Model: Logistic Regression\n",
      "Tweet: This game is fantastic! I love playing it every day.\n",
      "Prediction: Positive\n",
      "Probability: [0.13239661 0.24467674 0.02101733 0.60190931]\n",
      "----------------------------------------------------------------------\n",
      "Tweet: This game is terrible! I hate playing it.\n",
      "Prediction: Negative\n",
      "Probability: [9.60531208e-04 9.95389072e-01 1.52856343e-03 2.12183301e-03]\n",
      "----------------------------------------------------------------------\n",
      "Tweet: The graphics are amazing, but the gameplay is dull.\n",
      "Prediction: Positive\n",
      "Probability: [0.01149031 0.35064574 0.011404   0.62645994]\n",
      "----------------------------------------------------------------------\n",
      "Tweet: I enjoy the multiplayer mode a lot!\n",
      "Prediction: Negative\n",
      "Probability: [0.01213166 0.90926127 0.01467887 0.0639282 ]\n",
      "----------------------------------------------------------------------\n",
      "Tweet: The recent update ruined the game for me.\n",
      "Prediction: Negative\n",
      "Probability: [0.01326585 0.95438105 0.01321167 0.01914143]\n",
      "----------------------------------------------------------------------\n"
     ]
    }
   ],
   "source": [
    "# List of new tweets to classify\n",
    "new_tweets = [\n",
    "    \"This game is fantastic! I love playing it every day.\",\n",
    "    \"This game is terrible! I hate playing it.\",\n",
    "    \"The graphics are amazing, but the gameplay is dull.\",\n",
    "    \"I enjoy the multiplayer mode a lot!\",\n",
    "    \"The recent update ruined the game for me.\"\n",
    "]\n",
    "\n",
    "# Loop through the models in the best_models dictionary\n",
    "for name, model in best_models.items():\n",
    "    predictions = model.predict(new_tweets)\n",
    "    probabilities = model.predict_proba(new_tweets)\n",
    "    \n",
    "    print(f\"Model: {name}\")\n",
    "    for i, tweet in enumerate(new_tweets):\n",
    "        print(f\"Tweet: {tweet}\")\n",
    "        print(f\"Prediction: {predictions[i]}\")\n",
    "        print(f\"Probability: {probabilities[i]}\")\n",
    "        print(\"-\" * 70)\n"
   ]
  },
  {
   "cell_type": "code",
   "execution_count": null,
   "metadata": {},
   "outputs": [],
   "source": []
  }
 ],
 "metadata": {
  "kernelspec": {
   "display_name": "Python 3",
   "language": "python",
   "name": "python3"
  },
  "language_info": {
   "codemirror_mode": {
    "name": "ipython",
    "version": 3
   },
   "file_extension": ".py",
   "mimetype": "text/x-python",
   "name": "python",
   "nbconvert_exporter": "python",
   "pygments_lexer": "ipython3",
   "version": "3.12.4"
  }
 },
 "nbformat": 4,
 "nbformat_minor": 2
}
