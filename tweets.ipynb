{
 "cells": [
  {
   "cell_type": "code",
   "execution_count": 29,
   "metadata": {},
   "outputs": [
    {
     "name": "stdout",
     "output_type": "stream",
     "text": [
      "(74682, 4)\n"
     ]
    }
   ],
   "source": [
    "import pandas as pd\n",
    "import numpy as np\n",
    "import matplotlib.pyplot as plt\n",
    "import seaborn as sns\n",
    "\n",
    "# Load the dataset\n",
    "url = 'twitter_training.csv'\n",
    "data = pd.read_csv(url, names = ['Id','Company', 'Sentiment', 'Tweet'])\n",
    "print(data.shape)\n"
   ]
  },
  {
   "cell_type": "code",
   "execution_count": 30,
   "metadata": {},
   "outputs": [
    {
     "data": {
      "text/html": [
       "<div>\n",
       "<style scoped>\n",
       "    .dataframe tbody tr th:only-of-type {\n",
       "        vertical-align: middle;\n",
       "    }\n",
       "\n",
       "    .dataframe tbody tr th {\n",
       "        vertical-align: top;\n",
       "    }\n",
       "\n",
       "    .dataframe thead th {\n",
       "        text-align: right;\n",
       "    }\n",
       "</style>\n",
       "<table border=\"1\" class=\"dataframe\">\n",
       "  <thead>\n",
       "    <tr style=\"text-align: right;\">\n",
       "      <th></th>\n",
       "      <th>Id</th>\n",
       "      <th>Company</th>\n",
       "      <th>Sentiment</th>\n",
       "      <th>Tweet</th>\n",
       "    </tr>\n",
       "  </thead>\n",
       "  <tbody>\n",
       "    <tr>\n",
       "      <th>0</th>\n",
       "      <td>2401</td>\n",
       "      <td>Borderlands</td>\n",
       "      <td>Positive</td>\n",
       "      <td>im getting on borderlands and i will murder yo...</td>\n",
       "    </tr>\n",
       "    <tr>\n",
       "      <th>1</th>\n",
       "      <td>2401</td>\n",
       "      <td>Borderlands</td>\n",
       "      <td>Positive</td>\n",
       "      <td>I am coming to the borders and I will kill you...</td>\n",
       "    </tr>\n",
       "    <tr>\n",
       "      <th>2</th>\n",
       "      <td>2401</td>\n",
       "      <td>Borderlands</td>\n",
       "      <td>Positive</td>\n",
       "      <td>im getting on borderlands and i will kill you ...</td>\n",
       "    </tr>\n",
       "    <tr>\n",
       "      <th>3</th>\n",
       "      <td>2401</td>\n",
       "      <td>Borderlands</td>\n",
       "      <td>Positive</td>\n",
       "      <td>im coming on borderlands and i will murder you...</td>\n",
       "    </tr>\n",
       "    <tr>\n",
       "      <th>4</th>\n",
       "      <td>2401</td>\n",
       "      <td>Borderlands</td>\n",
       "      <td>Positive</td>\n",
       "      <td>im getting on borderlands 2 and i will murder ...</td>\n",
       "    </tr>\n",
       "  </tbody>\n",
       "</table>\n",
       "</div>"
      ],
      "text/plain": [
       "     Id      Company Sentiment  \\\n",
       "0  2401  Borderlands  Positive   \n",
       "1  2401  Borderlands  Positive   \n",
       "2  2401  Borderlands  Positive   \n",
       "3  2401  Borderlands  Positive   \n",
       "4  2401  Borderlands  Positive   \n",
       "\n",
       "                                               Tweet  \n",
       "0  im getting on borderlands and i will murder yo...  \n",
       "1  I am coming to the borders and I will kill you...  \n",
       "2  im getting on borderlands and i will kill you ...  \n",
       "3  im coming on borderlands and i will murder you...  \n",
       "4  im getting on borderlands 2 and i will murder ...  "
      ]
     },
     "execution_count": 30,
     "metadata": {},
     "output_type": "execute_result"
    }
   ],
   "source": [
    "\n",
    "data.head()"
   ]
  },
  {
   "cell_type": "code",
   "execution_count": 31,
   "metadata": {},
   "outputs": [
    {
     "data": {
      "text/plain": [
       "Company\n",
       "TomClancysRainbowSix                 2400\n",
       "MaddenNFL                            2400\n",
       "Microsoft                            2400\n",
       "LeagueOfLegends                      2394\n",
       "CallOfDuty                           2394\n",
       "Verizon                              2382\n",
       "CallOfDutyBlackopsColdWar            2376\n",
       "ApexLegends                          2376\n",
       "Facebook                             2370\n",
       "WorldOfCraft                         2364\n",
       "Dota2                                2364\n",
       "NBA2K                                2352\n",
       "TomClancysGhostRecon                 2346\n",
       "Battlefield                          2346\n",
       "FIFA                                 2340\n",
       "Xbox(Xseries)                        2334\n",
       "Overwatch                            2334\n",
       "johnson&johnson                      2328\n",
       "Amazon                               2316\n",
       "PlayStation5(PS5)                    2310\n",
       "HomeDepot                            2310\n",
       "Cyberpunk2077                        2304\n",
       "CS-GO                                2304\n",
       "GrandTheftAuto(GTA)                  2304\n",
       "Hearthstone                          2298\n",
       "Nvidia                               2298\n",
       "Google                               2298\n",
       "Borderlands                          2286\n",
       "PlayerUnknownsBattlegrounds(PUBG)    2274\n",
       "Fortnite                             2274\n",
       "RedDeadRedemption(RDR)               2262\n",
       "AssassinsCreed                       2244\n",
       "Name: count, dtype: int64"
      ]
     },
     "execution_count": 31,
     "metadata": {},
     "output_type": "execute_result"
    }
   ],
   "source": [
    "data['Company'].value_counts() "
   ]
  },
  {
   "cell_type": "code",
   "execution_count": 32,
   "metadata": {},
   "outputs": [
    {
     "name": "stdout",
     "output_type": "stream",
     "text": [
      "         Id    Company Sentiment  \\\n",
      "63006  7601  MaddenNFL  Negative   \n",
      "63007  7601  MaddenNFL  Negative   \n",
      "63008  7601  MaddenNFL  Negative   \n",
      "63009  7601  MaddenNFL  Negative   \n",
      "63010  7601  MaddenNFL  Negative   \n",
      "...     ...        ...       ...   \n",
      "65401  8000  MaddenNFL  Negative   \n",
      "65402  8000  MaddenNFL  Negative   \n",
      "65403  8000  MaddenNFL  Negative   \n",
      "65404  8000  MaddenNFL  Negative   \n",
      "65405  8000  MaddenNFL  Negative   \n",
      "\n",
      "                                                   Tweet  \n",
      "63006  Bro fuck madden 21 why does the game modes nev...  \n",
      "63007  Bro fuck madden 21 Why do the game modes never...  \n",
      "63008  Bro fuck madden 21 why does the game modes nev...  \n",
      "63009  Bro fuck madden 21 why does english game modes...  \n",
      "63010  Bro fuck madden 21 guys why now does the game ...  \n",
      "...                                                  ...  \n",
      "65401  2k5 was the best football game I ever had.. Go...  \n",
      "65402      2k5 was the best football game I've ever had.  \n",
      "65403  2k5 was the best video game I ever had.. Gon o...  \n",
      "65404  2k5 which was the 7th best football championsh...  \n",
      "65405  2k5 was the best football game I ever seen.. G...  \n",
      "\n",
      "[2400 rows x 4 columns]\n"
     ]
    },
    {
     "data": {
      "text/plain": [
       "Sentiment\n",
       "Negative      1710\n",
       "Positive       396\n",
       "Neutral        204\n",
       "Irrelevant      90\n",
       "Name: count, dtype: int64"
      ]
     },
     "execution_count": 32,
     "metadata": {},
     "output_type": "execute_result"
    }
   ],
   "source": [
    "Madden_tweets=data[data['Company']=='MaddenNFL']\n",
    "print(Madden_tweets)\n",
    "Madden_tweets['Sentiment'].value_counts() \n"
   ]
  },
  {
   "cell_type": "code",
   "execution_count": 34,
   "metadata": {},
   "outputs": [
    {
     "name": "stdout",
     "output_type": "stream",
     "text": [
      "Accuracy: 0.6733783783783783\n",
      "              precision    recall  f1-score   support\n",
      "\n",
      "  Irrelevant       0.69      0.51      0.59      2696\n",
      "    Negative       0.67      0.79      0.73      4380\n",
      "     Neutral       0.71      0.56      0.62      3605\n",
      "    Positive       0.65      0.76      0.70      4119\n",
      "\n",
      "    accuracy                           0.67     14800\n",
      "   macro avg       0.68      0.65      0.66     14800\n",
      "weighted avg       0.68      0.67      0.67     14800\n",
      "\n"
     ]
    }
   ],
   "source": [
    "from sklearn.model_selection import train_test_split\n",
    "from sklearn.feature_extraction.text import CountVectorizer\n",
    "from sklearn.pipeline import Pipeline\n",
    "from sklearn.naive_bayes import MultinomialNB\n",
    "from sklearn.metrics import classification_report, accuracy_score\n",
    "\n",
    "# Dropping rows with missing values\n",
    "data.dropna(subset=['Tweet', 'Sentiment'], inplace=True)\n",
    "\n",
    "# Setting up CountVectorizer with appropriate parameters\n",
    "cv = CountVectorizer(stop_words='english', min_df=2, max_df=0.95, max_features=10000)\n",
    "\n",
    "# Splitting the data into training and testing sets\n",
    "X_train, X_test, y_train, y_test = train_test_split(\n",
    "    data['Tweet'].values,\n",
    "    data['Sentiment'].values,\n",
    "    random_state=42,\n",
    "    test_size=0.2\n",
    ")\n",
    "\n",
    "# Creating a pipeline for vectorization and model training\n",
    "pipeline = Pipeline([\n",
    "    ('vectorizer', cv),\n",
    "    ('classifier', MultinomialNB())\n",
    "])\n",
    "\n",
    "# Fitting the model with training data\n",
    "pipeline.fit(X_train, y_train)\n",
    "\n",
    "# Transforming the test data and predicting\n",
    "y_pred = pipeline.predict(X_test)\n",
    "\n",
    "# Evaluating the model\n",
    "print(f\"Accuracy: {accuracy_score(y_test, y_pred)}\")\n",
    "print(classification_report(y_test, y_pred))"
   ]
  },
  {
   "cell_type": "code",
   "execution_count": null,
   "metadata": {},
   "outputs": [],
   "source": []
  }
 ],
 "metadata": {
  "kernelspec": {
   "display_name": "Python 3",
   "language": "python",
   "name": "python3"
  },
  "language_info": {
   "codemirror_mode": {
    "name": "ipython",
    "version": 3
   },
   "file_extension": ".py",
   "mimetype": "text/x-python",
   "name": "python",
   "nbconvert_exporter": "python",
   "pygments_lexer": "ipython3",
   "version": "3.12.2"
  }
 },
 "nbformat": 4,
 "nbformat_minor": 2
}
